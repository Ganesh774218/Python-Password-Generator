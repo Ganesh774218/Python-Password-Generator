{
 "cells": [
  {
   "cell_type": "code",
   "execution_count": 8,
   "id": "58593987-8c0a-4102-9704-259db024f7c6",
   "metadata": {},
   "outputs": [
    {
     "name": "stdin",
     "output_type": "stream",
     "text": [
      "How many alphabats you want in your password :  8\n",
      "How many numbers you want in your password :  1\n",
      "How many special characters you want :  1\n"
     ]
    },
    {
     "name": "stdout",
     "output_type": "stream",
     "text": [
      "your password is [ k$r5ceGQbN ]\n"
     ]
    }
   ],
   "source": [
    "import random\n",
    "\n",
    "alphabets = ['a', 'b', 'c', 'd', 'e', 'f', 'g', 'h', 'i', 'j', 'k', 'l', 'm', 'n', 'o', 'p', 'q', 'r', 's', 't', 'u', 'v', 'w', 'x', 'y', 'z', 'A', 'B', 'C', 'D', 'E', 'F', 'G', 'H', 'I', 'J', 'K', 'L', 'M', 'N', 'O', 'P', 'Q', 'R', 'S', 'T', 'U', 'V', 'W', 'X', 'Y', 'Z']\n",
    "number =[0,1,2,3,4,5,6,7,8,9]\n",
    "specials = ['!','@','#','$','%','^','&','*','(',')','_','-','+','=']\n",
    "\n",
    "char_in_password = int(input('How many alphabats you want in your password : '))\n",
    "number_in_password = int(input('How many numbers you want in your password : '))\n",
    "special_character = int(input('How many special characters you want : '))\n",
    "\n",
    "password_list = []\n",
    "\n",
    "for j in range(1,char_in_password+1):\n",
    "    ch = random.choice(alphabets)\n",
    "    password_list.append(ch)\n",
    "for k in range(1,number_in_password+1):\n",
    "     num = str(random.choice(number)) \n",
    "     password_list.append(num)\n",
    "for l in range(1,special_character+1):\n",
    "    sp = random.choice(specials)\n",
    "    password_list.append(sp)\n",
    "    \n",
    "random.shuffle(password_list)\n",
    "password = ''.join(password_list)\n",
    "print(f'your password is [ {password} ]')"
   ]
  },
  {
   "cell_type": "code",
   "execution_count": null,
   "id": "16a80308-b0bc-456f-bd5a-7baf144a6eb4",
   "metadata": {},
   "outputs": [],
   "source": []
  }
 ],
 "metadata": {
  "kernelspec": {
   "display_name": "Python 3 (ipykernel)",
   "language": "python",
   "name": "python3"
  },
  "language_info": {
   "codemirror_mode": {
    "name": "ipython",
    "version": 3
   },
   "file_extension": ".py",
   "mimetype": "text/x-python",
   "name": "python",
   "nbconvert_exporter": "python",
   "pygments_lexer": "ipython3",
   "version": "3.12.7"
  }
 },
 "nbformat": 4,
 "nbformat_minor": 5
}
